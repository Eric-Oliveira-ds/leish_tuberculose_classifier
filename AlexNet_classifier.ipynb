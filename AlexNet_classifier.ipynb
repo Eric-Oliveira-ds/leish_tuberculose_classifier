{
  "cells": [
    {
      "cell_type": "markdown",
      "metadata": {
        "id": "view-in-github",
        "colab_type": "text"
      },
      "source": [
        "<a href=\"https://colab.research.google.com/github/Eric-Oliveira-ds/leishticIA/blob/dev/AlexNet_classifier.ipynb\" target=\"_parent\"><img src=\"https://colab.research.google.com/assets/colab-badge.svg\" alt=\"Open In Colab\"/></a>"
      ]
    },
    {
      "cell_type": "markdown",
      "metadata": {
        "id": "Um0Gja8CYxqe"
      },
      "source": [
        "# Use pre-trained AlexNet to train and classifier leishmanioses and pyoderma images"
      ]
    },
    {
      "cell_type": "code",
      "source": [
        "from google.colab import drive\n",
        "drive.mount('/content/drive')"
      ],
      "metadata": {
        "id": "N-v-SU0-ZH2n",
        "outputId": "9d787edf-6df7-443f-edca-35cddfa3777f",
        "colab": {
          "base_uri": "https://localhost:8080/"
        }
      },
      "execution_count": 1,
      "outputs": [
        {
          "output_type": "stream",
          "name": "stdout",
          "text": [
            "Drive already mounted at /content/drive; to attempt to forcibly remount, call drive.mount(\"/content/drive\", force_remount=True).\n"
          ]
        }
      ]
    },
    {
      "cell_type": "code",
      "execution_count": 2,
      "metadata": {
        "vscode": {
          "languageId": "plaintext"
        },
        "id": "Zxm-q6vcYxqg"
      },
      "outputs": [],
      "source": [
        "import torch\n",
        "import torch.nn as nn\n",
        "import torch.optim as optim\n",
        "from torchvision import datasets, models, transforms\n",
        "from torch.utils.data import DataLoader\n",
        "from sklearn.metrics import confusion_matrix, accuracy_score, classification_report\n",
        "import seaborn as sns\n",
        "import matplotlib.pyplot as plt"
      ]
    },
    {
      "cell_type": "code",
      "execution_count": 3,
      "metadata": {
        "vscode": {
          "languageId": "plaintext"
        },
        "id": "CqBIFMfDYxqg"
      },
      "outputs": [],
      "source": [
        "# Definir as transformações para o dataset\n",
        "data_transforms = {\n",
        "    'train': transforms.Compose([\n",
        "        transforms.Resize((224, 224)),\n",
        "        transforms.RandomHorizontalFlip(),\n",
        "        transforms.ToTensor(),\n",
        "        transforms.Normalize([0.485, 0.456, 0.406], [0.229, 0.224, 0.225])\n",
        "    ]),\n",
        "    'test': transforms.Compose([\n",
        "        transforms.Resize((224, 224)),\n",
        "        transforms.ToTensor(),\n",
        "        transforms.Normalize([0.485, 0.456, 0.406], [0.229, 0.224, 0.225])\n",
        "    ]),\n",
        "}"
      ]
    },
    {
      "cell_type": "code",
      "execution_count": 4,
      "metadata": {
        "vscode": {
          "languageId": "plaintext"
        },
        "id": "WDSVGVZYYxqh"
      },
      "outputs": [],
      "source": [
        "# Carregar os datasets de treino e teste\n",
        "train_dataset = datasets.ImageFolder(root='/content/drive/MyDrive/dataset_classifier/test/', transform=data_transforms['train'])\n",
        "test_dataset = datasets.ImageFolder(root='/content/drive/MyDrive/dataset_classifier/train/', transform=data_transforms['test'])\n",
        "\n",
        "train_loader = DataLoader(train_dataset, batch_size=8, shuffle=True)\n",
        "test_loader = DataLoader(test_dataset, batch_size=8, shuffle=False)"
      ]
    },
    {
      "cell_type": "code",
      "source": [
        "train_loader.dataset.classes"
      ],
      "metadata": {
        "id": "TnapCRGhfB6z",
        "outputId": "b706399e-0375-479d-d1b5-0342d8670d51",
        "colab": {
          "base_uri": "https://localhost:8080/"
        }
      },
      "execution_count": 5,
      "outputs": [
        {
          "output_type": "execute_result",
          "data": {
            "text/plain": [
              "['leishmaniose', 'pyoderma']"
            ]
          },
          "metadata": {},
          "execution_count": 5
        }
      ]
    },
    {
      "cell_type": "code",
      "source": [
        "test_loader.dataset.classes"
      ],
      "metadata": {
        "id": "T54IpfIBfBpx",
        "outputId": "93ccab76-bc19-4736-937f-6db6ad1e3047",
        "colab": {
          "base_uri": "https://localhost:8080/"
        }
      },
      "execution_count": 6,
      "outputs": [
        {
          "output_type": "execute_result",
          "data": {
            "text/plain": [
              "['leishmaniose', 'pyoderma']"
            ]
          },
          "metadata": {},
          "execution_count": 6
        }
      ]
    },
    {
      "cell_type": "code",
      "source": [
        "# Mapeamento de classes para índices\n",
        "class_to_idx = train_dataset.class_to_idx\n",
        "print(class_to_idx)"
      ],
      "metadata": {
        "id": "11yKz07-53gJ",
        "outputId": "09ae5589-c1b1-4911-e698-74b815024b98",
        "colab": {
          "base_uri": "https://localhost:8080/"
        }
      },
      "execution_count": 7,
      "outputs": [
        {
          "output_type": "stream",
          "name": "stdout",
          "text": [
            "{'leishmaniose': 0, 'pyoderma': 1}\n"
          ]
        }
      ]
    },
    {
      "cell_type": "code",
      "source": [
        "# Mapeamento de classes para índices\n",
        "class_to_idx = test_dataset.class_to_idx\n",
        "print(class_to_idx)"
      ],
      "metadata": {
        "id": "cvb1-iGs50Zu",
        "outputId": "eff2486e-7846-4f7a-cf29-7d3a8aa56baa",
        "colab": {
          "base_uri": "https://localhost:8080/"
        }
      },
      "execution_count": 8,
      "outputs": [
        {
          "output_type": "stream",
          "name": "stdout",
          "text": [
            "{'leishmaniose': 0, 'pyoderma': 1}\n"
          ]
        }
      ]
    },
    {
      "cell_type": "code",
      "execution_count": 9,
      "metadata": {
        "vscode": {
          "languageId": "plaintext"
        },
        "id": "7Bpc5zG0Yxqh"
      },
      "outputs": [],
      "source": [
        "# Carregar o modelo AlexNet pré-treinado\n",
        "model = models.alexnet(weights='AlexNet_Weights.IMAGENET1K_V1')"
      ]
    },
    {
      "cell_type": "code",
      "execution_count": 10,
      "metadata": {
        "vscode": {
          "languageId": "plaintext"
        },
        "id": "Gs5KdkR8Yxqh"
      },
      "outputs": [],
      "source": [
        "# Congelar os parâmetros do modelo para evitar treinar toda a rede\n",
        "for param in model.parameters():\n",
        "    param.requires_grad = False"
      ]
    },
    {
      "cell_type": "code",
      "execution_count": 11,
      "metadata": {
        "vscode": {
          "languageId": "plaintext"
        },
        "id": "fv287I1jYxqh"
      },
      "outputs": [],
      "source": [
        "# Modificar a última camada para se ajustar ao número de classes do seu dataset\n",
        "num_classes = len(train_dataset.classes)\n",
        "model.classifier[6] = nn.Linear(model.classifier[6].in_features, num_classes)"
      ]
    },
    {
      "cell_type": "code",
      "source": [
        "num_classes"
      ],
      "metadata": {
        "id": "wKQLDx20t5w4",
        "outputId": "06df6088-57d7-4128-e6db-2c8bf872d7ae",
        "colab": {
          "base_uri": "https://localhost:8080/"
        }
      },
      "execution_count": 12,
      "outputs": [
        {
          "output_type": "execute_result",
          "data": {
            "text/plain": [
              "2"
            ]
          },
          "metadata": {},
          "execution_count": 12
        }
      ]
    },
    {
      "cell_type": "code",
      "execution_count": 13,
      "metadata": {
        "vscode": {
          "languageId": "plaintext"
        },
        "id": "0ngkfrc9Yxqh"
      },
      "outputs": [],
      "source": [
        "# Definir o otimizador e a função de perda\n",
        "criterion = nn.CrossEntropyLoss()\n",
        "optimizer = optim.Adam(model.classifier[6].parameters(), lr=0.001)"
      ]
    },
    {
      "cell_type": "code",
      "execution_count": 14,
      "metadata": {
        "vscode": {
          "languageId": "plaintext"
        },
        "id": "FlJKdPWbYxqh"
      },
      "outputs": [],
      "source": [
        "# Treinamento do modelo\n",
        "device = torch.device(\"cuda:0\" if torch.cuda.is_available() else \"cpu\")\n",
        "model = model.to(device)"
      ]
    },
    {
      "cell_type": "code",
      "execution_count": 15,
      "metadata": {
        "vscode": {
          "languageId": "plaintext"
        },
        "id": "4BmjexMIYxqh",
        "outputId": "0011279b-78f9-4fff-cee9-d54b8b9c83d5",
        "colab": {
          "base_uri": "https://localhost:8080/"
        }
      },
      "outputs": [
        {
          "output_type": "stream",
          "name": "stdout",
          "text": [
            "Epoch [1/20], Loss: 1.1340\n",
            "Epoch [2/20], Loss: 0.4313\n",
            "Epoch [3/20], Loss: 0.3020\n",
            "Epoch [4/20], Loss: 0.2500\n",
            "Epoch [5/20], Loss: 0.2048\n",
            "Epoch [6/20], Loss: 0.0626\n",
            "Epoch [7/20], Loss: 0.0332\n",
            "Epoch [8/20], Loss: 0.0345\n",
            "Epoch [9/20], Loss: 0.0399\n",
            "Epoch [10/20], Loss: 0.0236\n",
            "Epoch [11/20], Loss: 0.0339\n",
            "Epoch [12/20], Loss: 0.0222\n",
            "Epoch [13/20], Loss: 0.0105\n",
            "Epoch [14/20], Loss: 0.0167\n",
            "Epoch [15/20], Loss: 0.0068\n",
            "Epoch [16/20], Loss: 0.0134\n",
            "Epoch [17/20], Loss: 0.0080\n",
            "Epoch [18/20], Loss: 0.0158\n",
            "Epoch [19/20], Loss: 0.0081\n",
            "Epoch [20/20], Loss: 0.0064\n"
          ]
        }
      ],
      "source": [
        "num_epochs = 20\n",
        "for epoch in range(num_epochs):\n",
        "    model.train()\n",
        "    running_loss = 0.0\n",
        "    for inputs, labels in train_loader:\n",
        "        inputs, labels = inputs.to(device), labels.to(device)\n",
        "\n",
        "        optimizer.zero_grad()\n",
        "        outputs = model(inputs)\n",
        "        loss = criterion(outputs, labels)\n",
        "        loss.backward()\n",
        "        optimizer.step()\n",
        "\n",
        "        running_loss += loss.item()\n",
        "\n",
        "    print(f'Epoch [{epoch+1}/{num_epochs}], Loss: {running_loss/len(train_loader):.4f}')"
      ]
    },
    {
      "cell_type": "code",
      "execution_count": 20,
      "metadata": {
        "vscode": {
          "languageId": "plaintext"
        },
        "id": "0M4Fga5JYxqh"
      },
      "outputs": [],
      "source": [
        "# Avaliação do modelo\n",
        "model.eval()\n",
        "correct = 0\n",
        "total = 0\n",
        "all_labels = []\n",
        "all_predictions = []\n",
        "with torch.no_grad():\n",
        "    for inputs, labels in test_loader:\n",
        "        inputs, labels = inputs.to(device), labels.to(device)\n",
        "        outputs = model(inputs)\n",
        "        _, predicted = torch.max(outputs, 1)\n",
        "        # Armazene os rótulos e as previsões\n",
        "        all_labels.extend(labels.cpu().numpy())\n",
        "        all_predictions.extend(predicted.cpu().numpy())\n",
        "\n",
        "        total += labels.size(0)\n",
        "        correct += (predicted == labels).sum().item()"
      ]
    },
    {
      "cell_type": "code",
      "execution_count": 21,
      "metadata": {
        "vscode": {
          "languageId": "plaintext"
        },
        "id": "vO8KSy7WYxqh",
        "outputId": "a3cd6d06-9c5d-4292-a5f5-e7fa8a49ec51",
        "colab": {
          "base_uri": "https://localhost:8080/"
        }
      },
      "outputs": [
        {
          "output_type": "stream",
          "name": "stdout",
          "text": [
            "Acurácia no conjunto de teste: 62.75%\n"
          ]
        }
      ],
      "source": [
        "print(f'Acurácia no conjunto de teste: {100 * correct / total:.2f}%')"
      ]
    },
    {
      "cell_type": "code",
      "source": [
        "print(classification_report(all_labels, all_predictions))"
      ],
      "metadata": {
        "id": "Kd1mpvcu42gq",
        "outputId": "f3b7cece-d4c1-40b9-e914-ac6e3d2dbe0c",
        "colab": {
          "base_uri": "https://localhost:8080/"
        }
      },
      "execution_count": 22,
      "outputs": [
        {
          "output_type": "stream",
          "name": "stdout",
          "text": [
            "              precision    recall  f1-score   support\n",
            "\n",
            "           0       0.70      0.63      0.67        30\n",
            "           1       0.54      0.62      0.58        21\n",
            "\n",
            "    accuracy                           0.63        51\n",
            "   macro avg       0.62      0.63      0.62        51\n",
            "weighted avg       0.64      0.63      0.63        51\n",
            "\n"
          ]
        }
      ]
    },
    {
      "cell_type": "code",
      "execution_count": 23,
      "metadata": {
        "vscode": {
          "languageId": "plaintext"
        },
        "id": "4WGzNPMyYxqh",
        "outputId": "a0e01632-c7f9-4b50-87b3-8fdce9328a89",
        "colab": {
          "base_uri": "https://localhost:8080/",
          "height": 718
        }
      },
      "outputs": [
        {
          "output_type": "display_data",
          "data": {
            "text/plain": [
              "<Figure size 1000x800 with 1 Axes>"
            ],
            "image/png": "[encoded data removed]"
          },
          "metadata": {}
        }
      ],
      "source": [
        "# Criar a matriz de confusão\n",
        "cm = confusion_matrix(all_labels, all_predictions)\n",
        "accuracy = accuracy_score(all_labels, all_predictions)\n",
        "\n",
        "# Plotar a matriz de confusão com Seaborn\n",
        "plt.figure(figsize=(10, 8))\n",
        "ax = sns.heatmap(cm, annot=True, fmt='.1f', cmap='magma', cbar=False)\n",
        "plt.xlabel('Predicted Labels')\n",
        "plt.ylabel('True Labels')\n",
        "plt.title(f'Confusion Matrix - Accuracy: {accuracy:.2f}')\n",
        "ax.set_xticklabels(['leishmaniose', 'pyoderma',])\n",
        "ax.set_yticklabels(['leishmaniose', 'pyoderma'], rotation=0)\n",
        "plt.show()"
      ]
    },
    {
      "cell_type": "code",
      "execution_count": 19,
      "metadata": {
        "vscode": {
          "languageId": "plaintext"
        },
        "id": "zz8AXpf3Yxqi"
      },
      "outputs": [],
      "source": []
    },
    {
      "cell_type": "code",
      "execution_count": 19,
      "metadata": {
        "vscode": {
          "languageId": "plaintext"
        },
        "id": "DsDE-lxHYxqi"
      },
      "outputs": [],
      "source": []
    }
  ],
  "metadata": {
    "language_info": {
      "name": "python"
    },
    "colab": {
      "provenance": [],
      "include_colab_link": true
    },
    "kernelspec": {
      "name": "python3",
      "display_name": "Python 3"
    }
  },
  "nbformat": 4,
  "nbformat_minor": 0
}